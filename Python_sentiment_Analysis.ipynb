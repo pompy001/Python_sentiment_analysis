{
 "cells": [
  {
   "cell_type": "markdown",
   "id": "62b6f451",
   "metadata": {},
   "source": [
    "### Sentiment Analysis can help us decipher the mood and emotions of general public and gather insightful information regarding the context. Sentiment Analysis is a process of analyzing data and classifying it based on the need of the research "
   ]
  },
  {
   "cell_type": "code",
   "execution_count": null,
   "id": "848e4355",
   "metadata": {},
   "outputs": [],
   "source": [
    "import requests"
   ]
  },
  {
   "cell_type": "code",
   "execution_count": null,
   "id": "e7b2c8f9",
   "metadata": {},
   "outputs": [],
   "source": [
    "from bs4 import BeautifulSoup"
   ]
  },
  {
   "cell_type": "code",
   "execution_count": null,
   "id": "f1b00265",
   "metadata": {},
   "outputs": [],
   "source": [
    "r = requests.get('https://www.yelp.com/biz/tesla-san-francisco?osq=Tesla+Dealership')\n",
    "# you can choose any website"
   ]
  },
  {
   "cell_type": "code",
   "execution_count": null,
   "id": "fcd79e86",
   "metadata": {},
   "outputs": [],
   "source": [
    "r.status_code"
   ]
  },
  {
   "cell_type": "code",
   "execution_count": null,
   "id": "6895260b",
   "metadata": {},
   "outputs": [],
   "source": [
    "r.text"
   ]
  },
  {
   "cell_type": "code",
   "execution_count": null,
   "id": "0e8dc86e",
   "metadata": {},
   "outputs": [],
   "source": [
    "soup = BeautifulSoup(r.text, 'html.parser')"
   ]
  },
  {
   "cell_type": "code",
   "execution_count": null,
   "id": "29f4c328",
   "metadata": {},
   "outputs": [],
   "source": [
    "divs = soup.findAll(class_=\"comment__09f24__gu0rG css-1sufhje\")\n",
    "# choose the class which is common to the content of interest"
   ]
  },
  {
   "cell_type": "code",
   "execution_count": null,
   "id": "08e9c0d7",
   "metadata": {},
   "outputs": [],
   "source": [
    "reviews = []\n",
    "for div in divs:\n",
    "    reviews.append(div.text)"
   ]
  },
  {
   "cell_type": "code",
   "execution_count": null,
   "id": "c51263ea",
   "metadata": {},
   "outputs": [],
   "source": [
    "reviews"
   ]
  },
  {
   "cell_type": "markdown",
   "id": "ca75a76b",
   "metadata": {},
   "source": [
    "## Analysing the data"
   ]
  },
  {
   "cell_type": "code",
   "execution_count": null,
   "id": "775a2006",
   "metadata": {},
   "outputs": [],
   "source": [
    "import pandas as pd\n",
    "import numpy as np"
   ]
  },
  {
   "cell_type": "code",
   "execution_count": null,
   "id": "c2806469",
   "metadata": {},
   "outputs": [],
   "source": [
    "df = pd.DataFrame(np.array(reviews), columns = ['review'])"
   ]
  },
  {
   "cell_type": "code",
   "execution_count": null,
   "id": "dee9ed1b",
   "metadata": {},
   "outputs": [],
   "source": [
    "df.head()"
   ]
  },
  {
   "cell_type": "code",
   "execution_count": null,
   "id": "37320c05",
   "metadata": {},
   "outputs": [],
   "source": [
    "len(df['review'])"
   ]
  },
  {
   "cell_type": "code",
   "execution_count": null,
   "id": "1f077d9c",
   "metadata": {},
   "outputs": [],
   "source": [
    "df['word_count']=df['review'].apply(lambda x : len(x.split()))"
   ]
  },
  {
   "cell_type": "code",
   "execution_count": null,
   "id": "48ab6b7a",
   "metadata": {},
   "outputs": [],
   "source": [
    "df.head()"
   ]
  },
  {
   "cell_type": "code",
   "execution_count": null,
   "id": "cc058fce",
   "metadata": {},
   "outputs": [],
   "source": [
    "df['char_count']=df['review'].apply(lambda x : len(x))"
   ]
  },
  {
   "cell_type": "code",
   "execution_count": null,
   "id": "444d842e",
   "metadata": {},
   "outputs": [],
   "source": [
    "df.head()"
   ]
  },
  {
   "cell_type": "code",
   "execution_count": null,
   "id": "067e6ce6",
   "metadata": {},
   "outputs": [],
   "source": [
    "def average_words(x):\n",
    "    words = x.split()\n",
    "    return sum(len(word) for word in words)/ len(words)"
   ]
  },
  {
   "cell_type": "code",
   "execution_count": null,
   "id": "35e33f10",
   "metadata": {},
   "outputs": [],
   "source": [
    "df['avereage_word_length']= df['review'].apply(lambda x: average_words(x))"
   ]
  },
  {
   "cell_type": "code",
   "execution_count": null,
   "id": "b2ddaa02",
   "metadata": {},
   "outputs": [],
   "source": [
    "df.head()"
   ]
  },
  {
   "cell_type": "code",
   "execution_count": null,
   "id": "41869c43",
   "metadata": {},
   "outputs": [],
   "source": [
    "from nltk.corpus import stopwords\n",
    "import nltk\n",
    "nltk.download('stopwords')"
   ]
  },
  {
   "cell_type": "code",
   "execution_count": null,
   "id": "5134691b",
   "metadata": {},
   "outputs": [],
   "source": [
    "stop_words = stopwords.words('english')"
   ]
  },
  {
   "cell_type": "code",
   "execution_count": null,
   "id": "f35ce762",
   "metadata": {},
   "outputs": [],
   "source": [
    "df['stopword_count'] = df['review'].apply(lambda x : len([word for word in x.split() if word.lower() in stop_words]))"
   ]
  },
  {
   "cell_type": "code",
   "execution_count": null,
   "id": "8e13aad7",
   "metadata": {},
   "outputs": [],
   "source": [
    "df.head()"
   ]
  },
  {
   "cell_type": "code",
   "execution_count": null,
   "id": "b5eeb868",
   "metadata": {},
   "outputs": [],
   "source": [
    "df['stopword_rate']= df['stopword_count']/df['word_count']"
   ]
  },
  {
   "cell_type": "code",
   "execution_count": null,
   "id": "879a0e50",
   "metadata": {},
   "outputs": [],
   "source": [
    "df.head()"
   ]
  },
  {
   "cell_type": "code",
   "execution_count": null,
   "id": "8a976a60",
   "metadata": {},
   "outputs": [],
   "source": [
    "df.sort_values(by = 'stopword_rate')"
   ]
  },
  {
   "cell_type": "code",
   "execution_count": null,
   "id": "2d367405",
   "metadata": {},
   "outputs": [],
   "source": [
    "df.describe()"
   ]
  },
  {
   "cell_type": "markdown",
   "id": "5bda2d92",
   "metadata": {},
   "source": [
    "## Data Cleaning"
   ]
  },
  {
   "cell_type": "code",
   "execution_count": null,
   "id": "ec99beca",
   "metadata": {},
   "outputs": [],
   "source": [
    "df['lowercase'] =  df['review'].apply(lambda x : \" \".join(word.lower() for word in x.split()))"
   ]
  },
  {
   "cell_type": "code",
   "execution_count": null,
   "id": "ea3a3527",
   "metadata": {},
   "outputs": [],
   "source": [
    "df.head()"
   ]
  },
  {
   "cell_type": "code",
   "execution_count": null,
   "id": "62718c51",
   "metadata": {},
   "outputs": [],
   "source": [
    "df['punctuation']  = df['lowercase'].str.replace('[^\\w\\s]', '')"
   ]
  },
  {
   "cell_type": "code",
   "execution_count": null,
   "id": "0225240b",
   "metadata": {},
   "outputs": [],
   "source": [
    "df.head()"
   ]
  },
  {
   "cell_type": "code",
   "execution_count": null,
   "id": "415ecdbf",
   "metadata": {},
   "outputs": [],
   "source": [
    "df[\"stopwords\"] = df['punctuation'].apply(lambda x : \" \".join(word for word in x.split() if word not in stop_words))"
   ]
  },
  {
   "cell_type": "code",
   "execution_count": null,
   "id": "e37f773f",
   "metadata": {},
   "outputs": [],
   "source": [
    "df.head()"
   ]
  },
  {
   "cell_type": "code",
   "execution_count": null,
   "id": "dcb98065",
   "metadata": {},
   "outputs": [],
   "source": [
    "pd.Series(\" \".join(df['stopwords']).split()).value_counts()[:50]"
   ]
  },
  {
   "cell_type": "code",
   "execution_count": null,
   "id": "93ebdf3f",
   "metadata": {},
   "outputs": [],
   "source": [
    "other_stop_words = ['get','also','us','new']"
   ]
  },
  {
   "cell_type": "code",
   "execution_count": null,
   "id": "3cb8c377",
   "metadata": {},
   "outputs": [],
   "source": [
    "len(other_stop_words)"
   ]
  },
  {
   "cell_type": "code",
   "execution_count": null,
   "id": "8768f23a",
   "metadata": {},
   "outputs": [],
   "source": [
    "df.head()"
   ]
  },
  {
   "cell_type": "code",
   "execution_count": null,
   "id": "fbe2825b",
   "metadata": {},
   "outputs": [],
   "source": [
    "df['cleanreview']  = df['stopwords'].apply(lambda x : \" \".join(word for word in x.split() if word not in other_stop_words))"
   ]
  },
  {
   "cell_type": "code",
   "execution_count": null,
   "id": "e31a507d",
   "metadata": {},
   "outputs": [],
   "source": [
    "df.head()"
   ]
  },
  {
   "cell_type": "markdown",
   "id": "1d35bc9b",
   "metadata": {},
   "source": [
    "##  Lemmatization"
   ]
  },
  {
   "cell_type": "code",
   "execution_count": null,
   "id": "2b1baf3f",
   "metadata": {},
   "outputs": [],
   "source": [
    "from textblob import Word\n",
    "nltk.download('omw-1.4')"
   ]
  },
  {
   "cell_type": "code",
   "execution_count": null,
   "id": "50889fc4",
   "metadata": {},
   "outputs": [],
   "source": [
    "df['lemmatize']=df['cleanreview'].apply(lambda x :\" \".join(Word(word).lemmatize() for word in x.split()))"
   ]
  },
  {
   "cell_type": "code",
   "execution_count": null,
   "id": "562ee8d9",
   "metadata": {},
   "outputs": [],
   "source": [
    "df.head()"
   ]
  },
  {
   "cell_type": "markdown",
   "id": "629a37d1",
   "metadata": {},
   "source": [
    "##  Sentiment Analysis"
   ]
  },
  {
   "cell_type": "markdown",
   "id": "9f685b8e",
   "metadata": {},
   "source": [
    "### TextBlob returns polarity and subjectivity of a sentence. Polarity lies between [-1,1], -1 defines a negative sentiment and 1 defines a positive sentiment. Negation words reverse the polarity. TextBlob has semantic labels that help with fine-grained analysis. For example — emoticons, exclamation mark, emojis, etc. Subjectivity lies between [0,1]. Subjectivity quantifies the amount of personal opinion and factual information contained in the text. The higher subjectivity means that the text contains personal opinion rather than factual information. "
   ]
  },
  {
   "cell_type": "code",
   "execution_count": null,
   "id": "c19c7713",
   "metadata": {},
   "outputs": [],
   "source": [
    "df['clean_review_word_count'] = df['cleanreview'].apply(lambda x : len(x.split()))"
   ]
  },
  {
   "cell_type": "code",
   "execution_count": null,
   "id": "b6717202",
   "metadata": {},
   "outputs": [],
   "source": [
    "from textblob import TextBlob"
   ]
  },
  {
   "cell_type": "code",
   "execution_count": null,
   "id": "fcea53ab",
   "metadata": {},
   "outputs": [],
   "source": [
    "df['clean_rate']=df['clean_review_word_count']/df['word_count']"
   ]
  },
  {
   "cell_type": "code",
   "execution_count": null,
   "id": "bdba6129",
   "metadata": {},
   "outputs": [],
   "source": [
    "df.head()"
   ]
  },
  {
   "cell_type": "code",
   "execution_count": null,
   "id": "5fad6e1c",
   "metadata": {},
   "outputs": [],
   "source": [
    "df['polarity'] = df['lemmatize'].apply(lambda x: TextBlob(x).sentiment[0])"
   ]
  },
  {
   "cell_type": "code",
   "execution_count": null,
   "id": "2bed0d05",
   "metadata": {},
   "outputs": [],
   "source": [
    "df['subjectivity'] = df['lemmatize'].apply(lambda x: TextBlob(x).sentiment[1])"
   ]
  },
  {
   "cell_type": "code",
   "execution_count": null,
   "id": "174455a0",
   "metadata": {},
   "outputs": [],
   "source": [
    "df.head()"
   ]
  },
  {
   "cell_type": "code",
   "execution_count": null,
   "id": "20551484",
   "metadata": {},
   "outputs": [],
   "source": [
    "df.sort_values(by='polarity')"
   ]
  },
  {
   "cell_type": "code",
   "execution_count": null,
   "id": "f026bd94",
   "metadata": {},
   "outputs": [],
   "source": []
  }
 ],
 "metadata": {
  "kernelspec": {
   "display_name": "Python 3 (ipykernel)",
   "language": "python",
   "name": "python3"
  },
  "language_info": {
   "codemirror_mode": {
    "name": "ipython",
    "version": 3
   },
   "file_extension": ".py",
   "mimetype": "text/x-python",
   "name": "python",
   "nbconvert_exporter": "python",
   "pygments_lexer": "ipython3",
   "version": "3.9.7"
  }
 },
 "nbformat": 4,
 "nbformat_minor": 5
}
